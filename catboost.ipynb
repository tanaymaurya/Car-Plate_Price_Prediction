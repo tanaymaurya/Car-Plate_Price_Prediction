{
 "cells": [
  {
   "cell_type": "code",
   "execution_count": 1,
   "id": "41bdb27c",
   "metadata": {
    "_cell_guid": "b1076dfc-b9ad-4769-8c92-a6c4dae69d19",
    "_uuid": "8f2839f25d086af736a60e9eeb907d3b93b6e0e5",
    "execution": {
     "iopub.execute_input": "2025-05-03T10:05:30.126942Z",
     "iopub.status.busy": "2025-05-03T10:05:30.126602Z",
     "iopub.status.idle": "2025-05-03T10:05:32.149637Z",
     "shell.execute_reply": "2025-05-03T10:05:32.148657Z"
    },
    "papermill": {
     "duration": 2.031795,
     "end_time": "2025-05-03T10:05:32.151260",
     "exception": false,
     "start_time": "2025-05-03T10:05:30.119465",
     "status": "completed"
    },
    "tags": []
   },
   "outputs": [
    {
     "name": "stdout",
     "output_type": "stream",
     "text": [
      "/kaggle/input/russian-car-plates-prices-prediction/sample_submission.csv\n",
      "/kaggle/input/russian-car-plates-prices-prediction/supplemental_english.py\n",
      "/kaggle/input/russian-car-plates-prices-prediction/supplemental_russian.py\n",
      "/kaggle/input/russian-car-plates-prices-prediction/train.csv\n",
      "/kaggle/input/russian-car-plates-prices-prediction/test.csv\n"
     ]
    }
   ],
   "source": [
    "# This Python 3 environment comes with many helpful analytics libraries installed\n",
    "# It is defined by the kaggle/python Docker image: https://github.com/kaggle/docker-python\n",
    "# For example, here's several helpful packages to load\n",
    "\n",
    "import numpy as np # linear algebra\n",
    "import pandas as pd # data processing, CSV file I/O (e.g. pd.read_csv)\n",
    "\n",
    "# Input data files are available in the read-only \"../input/\" directory\n",
    "# For example, running this (by clicking run or pressing Shift+Enter) will list all files under the input directory\n",
    "\n",
    "import os\n",
    "for dirname, _, filenames in os.walk('/kaggle/input'):\n",
    "    for filename in filenames:\n",
    "        print(os.path.join(dirname, filename))\n",
    "\n",
    "# You can write up to 20GB to the current directory (/kaggle/working/) that gets preserved as output when you create a version using \"Save & Run All\" \n",
    "# You can also write temporary files to /kaggle/temp/, but they won't be saved outside of the current session"
   ]
  },
  {
   "cell_type": "code",
   "execution_count": 2,
   "id": "535fc50c",
   "metadata": {
    "execution": {
     "iopub.execute_input": "2025-05-03T10:05:32.163784Z",
     "iopub.status.busy": "2025-05-03T10:05:32.163366Z",
     "iopub.status.idle": "2025-05-03T10:05:32.287805Z",
     "shell.execute_reply": "2025-05-03T10:05:32.286908Z"
    },
    "papermill": {
     "duration": 0.132569,
     "end_time": "2025-05-03T10:05:32.289596",
     "exception": false,
     "start_time": "2025-05-03T10:05:32.157027",
     "status": "completed"
    },
    "tags": []
   },
   "outputs": [],
   "source": [
    "train = pd.read_csv('/kaggle/input/russian-car-plates-prices-prediction/train.csv')\n",
    "test = pd.read_csv('/kaggle/input/russian-car-plates-prices-prediction/test.csv')"
   ]
  },
  {
   "cell_type": "code",
   "execution_count": 3,
   "id": "969b10f7",
   "metadata": {
    "execution": {
     "iopub.execute_input": "2025-05-03T10:05:32.305420Z",
     "iopub.status.busy": "2025-05-03T10:05:32.305108Z",
     "iopub.status.idle": "2025-05-03T10:05:32.338280Z",
     "shell.execute_reply": "2025-05-03T10:05:32.337224Z"
    },
    "papermill": {
     "duration": 0.041469,
     "end_time": "2025-05-03T10:05:32.339900",
     "exception": false,
     "start_time": "2025-05-03T10:05:32.298431",
     "status": "completed"
    },
    "tags": []
   },
   "outputs": [
    {
     "data": {
      "text/html": [
       "<div>\n",
       "<style scoped>\n",
       "    .dataframe tbody tr th:only-of-type {\n",
       "        vertical-align: middle;\n",
       "    }\n",
       "\n",
       "    .dataframe tbody tr th {\n",
       "        vertical-align: top;\n",
       "    }\n",
       "\n",
       "    .dataframe thead th {\n",
       "        text-align: right;\n",
       "    }\n",
       "</style>\n",
       "<table border=\"1\" class=\"dataframe\">\n",
       "  <thead>\n",
       "    <tr style=\"text-align: right;\">\n",
       "      <th></th>\n",
       "      <th>id</th>\n",
       "      <th>price</th>\n",
       "    </tr>\n",
       "  </thead>\n",
       "  <tbody>\n",
       "    <tr>\n",
       "      <th>0</th>\n",
       "      <td>51636</td>\n",
       "      <td>100000</td>\n",
       "    </tr>\n",
       "    <tr>\n",
       "      <th>1</th>\n",
       "      <td>51637</td>\n",
       "      <td>100000</td>\n",
       "    </tr>\n",
       "    <tr>\n",
       "      <th>2</th>\n",
       "      <td>51638</td>\n",
       "      <td>100000</td>\n",
       "    </tr>\n",
       "    <tr>\n",
       "      <th>3</th>\n",
       "      <td>51639</td>\n",
       "      <td>100000</td>\n",
       "    </tr>\n",
       "    <tr>\n",
       "      <th>4</th>\n",
       "      <td>51640</td>\n",
       "      <td>100000</td>\n",
       "    </tr>\n",
       "  </tbody>\n",
       "</table>\n",
       "</div>"
      ],
      "text/plain": [
       "      id   price\n",
       "0  51636  100000\n",
       "1  51637  100000\n",
       "2  51638  100000\n",
       "3  51639  100000\n",
       "4  51640  100000"
      ]
     },
     "execution_count": 3,
     "metadata": {},
     "output_type": "execute_result"
    }
   ],
   "source": [
    "sample = pd.read_csv('/kaggle/input/russian-car-plates-prices-prediction/sample_submission.csv')\n",
    "sample.head()"
   ]
  },
  {
   "cell_type": "code",
   "execution_count": 4,
   "id": "b9df9940",
   "metadata": {
    "execution": {
     "iopub.execute_input": "2025-05-03T10:05:32.352286Z",
     "iopub.status.busy": "2025-05-03T10:05:32.351993Z",
     "iopub.status.idle": "2025-05-03T10:05:32.361694Z",
     "shell.execute_reply": "2025-05-03T10:05:32.360704Z"
    },
    "papermill": {
     "duration": 0.017556,
     "end_time": "2025-05-03T10:05:32.363153",
     "exception": false,
     "start_time": "2025-05-03T10:05:32.345597",
     "status": "completed"
    },
    "tags": []
   },
   "outputs": [
    {
     "data": {
      "text/html": [
       "<div>\n",
       "<style scoped>\n",
       "    .dataframe tbody tr th:only-of-type {\n",
       "        vertical-align: middle;\n",
       "    }\n",
       "\n",
       "    .dataframe tbody tr th {\n",
       "        vertical-align: top;\n",
       "    }\n",
       "\n",
       "    .dataframe thead th {\n",
       "        text-align: right;\n",
       "    }\n",
       "</style>\n",
       "<table border=\"1\" class=\"dataframe\">\n",
       "  <thead>\n",
       "    <tr style=\"text-align: right;\">\n",
       "      <th></th>\n",
       "      <th>id</th>\n",
       "      <th>plate</th>\n",
       "      <th>date</th>\n",
       "      <th>price</th>\n",
       "    </tr>\n",
       "  </thead>\n",
       "  <tbody>\n",
       "    <tr>\n",
       "      <th>0</th>\n",
       "      <td>1</td>\n",
       "      <td>X059CP797</td>\n",
       "      <td>2024-12-26 00:00:00</td>\n",
       "      <td>65000</td>\n",
       "    </tr>\n",
       "    <tr>\n",
       "      <th>1</th>\n",
       "      <td>2</td>\n",
       "      <td>Y800MH790</td>\n",
       "      <td>2024-07-12 21:31:37</td>\n",
       "      <td>100000</td>\n",
       "    </tr>\n",
       "    <tr>\n",
       "      <th>2</th>\n",
       "      <td>3</td>\n",
       "      <td>A212TX77</td>\n",
       "      <td>2024-04-18 00:00:00</td>\n",
       "      <td>290000</td>\n",
       "    </tr>\n",
       "    <tr>\n",
       "      <th>3</th>\n",
       "      <td>4</td>\n",
       "      <td>P001AY199</td>\n",
       "      <td>2025-01-03 00:27:15</td>\n",
       "      <td>680000</td>\n",
       "    </tr>\n",
       "    <tr>\n",
       "      <th>4</th>\n",
       "      <td>5</td>\n",
       "      <td>P001AY199</td>\n",
       "      <td>2025-01-10 09:32:41</td>\n",
       "      <td>750000</td>\n",
       "    </tr>\n",
       "  </tbody>\n",
       "</table>\n",
       "</div>"
      ],
      "text/plain": [
       "   id      plate                 date   price\n",
       "0   1  X059CP797  2024-12-26 00:00:00   65000\n",
       "1   2  Y800MH790  2024-07-12 21:31:37  100000\n",
       "2   3   A212TX77  2024-04-18 00:00:00  290000\n",
       "3   4  P001AY199  2025-01-03 00:27:15  680000\n",
       "4   5  P001AY199  2025-01-10 09:32:41  750000"
      ]
     },
     "execution_count": 4,
     "metadata": {},
     "output_type": "execute_result"
    }
   ],
   "source": [
    "train.head()"
   ]
  },
  {
   "cell_type": "code",
   "execution_count": 5,
   "id": "07c463d3",
   "metadata": {
    "execution": {
     "iopub.execute_input": "2025-05-03T10:05:32.375711Z",
     "iopub.status.busy": "2025-05-03T10:05:32.375398Z",
     "iopub.status.idle": "2025-05-03T10:05:32.386999Z",
     "shell.execute_reply": "2025-05-03T10:05:32.385934Z"
    },
    "papermill": {
     "duration": 0.019607,
     "end_time": "2025-05-03T10:05:32.388435",
     "exception": false,
     "start_time": "2025-05-03T10:05:32.368828",
     "status": "completed"
    },
    "tags": []
   },
   "outputs": [
    {
     "name": "stderr",
     "output_type": "stream",
     "text": [
      "/usr/local/lib/python3.11/dist-packages/pandas/io/formats/format.py:1458: RuntimeWarning: invalid value encountered in greater\n",
      "  has_large_values = (abs_vals > 1e6).any()\n",
      "/usr/local/lib/python3.11/dist-packages/pandas/io/formats/format.py:1459: RuntimeWarning: invalid value encountered in less\n",
      "  has_small_values = ((abs_vals < 10 ** (-self.digits)) & (abs_vals > 0)).any()\n",
      "/usr/local/lib/python3.11/dist-packages/pandas/io/formats/format.py:1459: RuntimeWarning: invalid value encountered in greater\n",
      "  has_small_values = ((abs_vals < 10 ** (-self.digits)) & (abs_vals > 0)).any()\n"
     ]
    },
    {
     "data": {
      "text/html": [
       "<div>\n",
       "<style scoped>\n",
       "    .dataframe tbody tr th:only-of-type {\n",
       "        vertical-align: middle;\n",
       "    }\n",
       "\n",
       "    .dataframe tbody tr th {\n",
       "        vertical-align: top;\n",
       "    }\n",
       "\n",
       "    .dataframe thead th {\n",
       "        text-align: right;\n",
       "    }\n",
       "</style>\n",
       "<table border=\"1\" class=\"dataframe\">\n",
       "  <thead>\n",
       "    <tr style=\"text-align: right;\">\n",
       "      <th></th>\n",
       "      <th>id</th>\n",
       "      <th>plate</th>\n",
       "      <th>date</th>\n",
       "      <th>price</th>\n",
       "    </tr>\n",
       "  </thead>\n",
       "  <tbody>\n",
       "    <tr>\n",
       "      <th>0</th>\n",
       "      <td>51636</td>\n",
       "      <td>P700TT790</td>\n",
       "      <td>2025-01-27 00:00:00</td>\n",
       "      <td>NaN</td>\n",
       "    </tr>\n",
       "    <tr>\n",
       "      <th>1</th>\n",
       "      <td>51637</td>\n",
       "      <td>M081TX797</td>\n",
       "      <td>2025-02-10 00:00:00</td>\n",
       "      <td>NaN</td>\n",
       "    </tr>\n",
       "    <tr>\n",
       "      <th>2</th>\n",
       "      <td>51638</td>\n",
       "      <td>T333HX777</td>\n",
       "      <td>2025-02-11 00:00:00</td>\n",
       "      <td>NaN</td>\n",
       "    </tr>\n",
       "    <tr>\n",
       "      <th>3</th>\n",
       "      <td>51639</td>\n",
       "      <td>H744BH977</td>\n",
       "      <td>2025-02-03 00:00:00</td>\n",
       "      <td>NaN</td>\n",
       "    </tr>\n",
       "    <tr>\n",
       "      <th>4</th>\n",
       "      <td>51640</td>\n",
       "      <td>X066EM777</td>\n",
       "      <td>2025-02-12 00:00:00</td>\n",
       "      <td>NaN</td>\n",
       "    </tr>\n",
       "  </tbody>\n",
       "</table>\n",
       "</div>"
      ],
      "text/plain": [
       "      id      plate                 date  price\n",
       "0  51636  P700TT790  2025-01-27 00:00:00    NaN\n",
       "1  51637  M081TX797  2025-02-10 00:00:00    NaN\n",
       "2  51638  T333HX777  2025-02-11 00:00:00    NaN\n",
       "3  51639  H744BH977  2025-02-03 00:00:00    NaN\n",
       "4  51640  X066EM777  2025-02-12 00:00:00    NaN"
      ]
     },
     "execution_count": 5,
     "metadata": {},
     "output_type": "execute_result"
    }
   ],
   "source": [
    "test.head()"
   ]
  },
  {
   "cell_type": "code",
   "execution_count": 6,
   "id": "896ac273",
   "metadata": {
    "execution": {
     "iopub.execute_input": "2025-05-03T10:05:32.401421Z",
     "iopub.status.busy": "2025-05-03T10:05:32.401143Z",
     "iopub.status.idle": "2025-05-03T10:05:32.415643Z",
     "shell.execute_reply": "2025-05-03T10:05:32.414886Z"
    },
    "papermill": {
     "duration": 0.022666,
     "end_time": "2025-05-03T10:05:32.417072",
     "exception": false,
     "start_time": "2025-05-03T10:05:32.394406",
     "status": "completed"
    },
    "tags": []
   },
   "outputs": [
    {
     "data": {
      "text/plain": [
       "((51635, 3), (7695, 2))"
      ]
     },
     "execution_count": 6,
     "metadata": {},
     "output_type": "execute_result"
    }
   ],
   "source": [
    "train.drop(columns=['id'],inplace=True)\n",
    "test.drop(columns=['id','price'], inplace=True)\n",
    "train.shape,test.shape"
   ]
  },
  {
   "cell_type": "code",
   "execution_count": 7,
   "id": "c6f01156",
   "metadata": {
    "execution": {
     "iopub.execute_input": "2025-05-03T10:05:32.430236Z",
     "iopub.status.busy": "2025-05-03T10:05:32.429442Z",
     "iopub.status.idle": "2025-05-03T10:05:32.454740Z",
     "shell.execute_reply": "2025-05-03T10:05:32.453952Z"
    },
    "papermill": {
     "duration": 0.033341,
     "end_time": "2025-05-03T10:05:32.456310",
     "exception": false,
     "start_time": "2025-05-03T10:05:32.422969",
     "status": "completed"
    },
    "tags": []
   },
   "outputs": [
    {
     "data": {
      "text/plain": [
       "43605"
      ]
     },
     "execution_count": 7,
     "metadata": {},
     "output_type": "execute_result"
    }
   ],
   "source": [
    "train['price'].describe()\n",
    "train['plate'].nunique()"
   ]
  },
  {
   "cell_type": "code",
   "execution_count": 8,
   "id": "c26fb52c",
   "metadata": {
    "execution": {
     "iopub.execute_input": "2025-05-03T10:05:32.470070Z",
     "iopub.status.busy": "2025-05-03T10:05:32.469250Z",
     "iopub.status.idle": "2025-05-03T10:05:32.473581Z",
     "shell.execute_reply": "2025-05-03T10:05:32.472702Z"
    },
    "papermill": {
     "duration": 0.012543,
     "end_time": "2025-05-03T10:05:32.475135",
     "exception": false,
     "start_time": "2025-05-03T10:05:32.462592",
     "status": "completed"
    },
    "tags": []
   },
   "outputs": [],
   "source": [
    "from datetime import datetime"
   ]
  },
  {
   "cell_type": "code",
   "execution_count": 9,
   "id": "928ea484",
   "metadata": {
    "execution": {
     "iopub.execute_input": "2025-05-03T10:05:32.488320Z",
     "iopub.status.busy": "2025-05-03T10:05:32.488035Z",
     "iopub.status.idle": "2025-05-03T10:05:32.494171Z",
     "shell.execute_reply": "2025-05-03T10:05:32.493213Z"
    },
    "papermill": {
     "duration": 0.01457,
     "end_time": "2025-05-03T10:05:32.495718",
     "exception": false,
     "start_time": "2025-05-03T10:05:32.481148",
     "status": "completed"
    },
    "tags": []
   },
   "outputs": [],
   "source": [
    "# Date features\n",
    "def preprocess_dates(df):\n",
    "    df['date'] = pd.to_datetime(df['date'])\n",
    "    df['year'] = df['date'].dt.year\n",
    "    df['month'] = df['date'].dt.month\n",
    "    df['day'] = df['date'].dt.day\n",
    "    df['weekday'] = df['date'].dt.weekday\n",
    "    df['days_since'] = (df['date'] - df['date'].min()).dt.days\n",
    "    return df\n",
    "\n",
    "#Plate Features\n",
    "def preprocess_plate(df):\n",
    "    df[['letter1', 'digits', 'letters2', 'region']] = df['plate'].str.extract(\n",
    "        r\"^([ABEKMHOPCTYX])(\\d{3})([ABEKMHOPCTYX]{2})(\\d{2,3})$\"\n",
    "    )\n",
    "    return df"
   ]
  },
  {
   "cell_type": "code",
   "execution_count": 10,
   "id": "dbbe6c2b",
   "metadata": {
    "execution": {
     "iopub.execute_input": "2025-05-03T10:05:32.508513Z",
     "iopub.status.busy": "2025-05-03T10:05:32.508233Z",
     "iopub.status.idle": "2025-05-03T10:05:32.513479Z",
     "shell.execute_reply": "2025-05-03T10:05:32.512786Z"
    },
    "papermill": {
     "duration": 0.013175,
     "end_time": "2025-05-03T10:05:32.514798",
     "exception": false,
     "start_time": "2025-05-03T10:05:32.501623",
     "status": "completed"
    },
    "tags": []
   },
   "outputs": [],
   "source": [
    "def extract_digit_features(df):\n",
    "    df['digits'] = df['digits'].astype(str).str.zfill(3)\n",
    "    \n",
    "    df['is_palindrome'] = df['digits'].apply(lambda x:x == x[::-1])\n",
    "    \n",
    "    df['is_repeated_digits'] = df['digits'].apply(lambda x: len(set(x))== 1)\n",
    "    \n",
    "    df['unique_digit_count'] = df['digits'].apply(lambda x: len(set(x)))\n",
    "    return df"
   ]
  },
  {
   "cell_type": "code",
   "execution_count": 11,
   "id": "dd7c4aff",
   "metadata": {
    "execution": {
     "iopub.execute_input": "2025-05-03T10:05:32.527928Z",
     "iopub.status.busy": "2025-05-03T10:05:32.527344Z",
     "iopub.status.idle": "2025-05-03T10:05:32.775930Z",
     "shell.execute_reply": "2025-05-03T10:05:32.774962Z"
    },
    "papermill": {
     "duration": 0.256896,
     "end_time": "2025-05-03T10:05:32.777670",
     "exception": false,
     "start_time": "2025-05-03T10:05:32.520774",
     "status": "completed"
    },
    "tags": []
   },
   "outputs": [],
   "source": [
    "train = preprocess_dates(train)\n",
    "train = preprocess_plate(train)\n",
    "train = extract_digit_features(train)\n",
    "\n",
    "test = preprocess_dates(test)\n",
    "test = preprocess_plate(test)\n",
    "test = extract_digit_features(test)"
   ]
  },
  {
   "cell_type": "code",
   "execution_count": 12,
   "id": "d805dd4e",
   "metadata": {
    "execution": {
     "iopub.execute_input": "2025-05-03T10:05:32.790367Z",
     "iopub.status.busy": "2025-05-03T10:05:32.790093Z",
     "iopub.status.idle": "2025-05-03T10:05:32.809389Z",
     "shell.execute_reply": "2025-05-03T10:05:32.808437Z"
    },
    "papermill": {
     "duration": 0.027525,
     "end_time": "2025-05-03T10:05:32.810966",
     "exception": false,
     "start_time": "2025-05-03T10:05:32.783441",
     "status": "completed"
    },
    "tags": []
   },
   "outputs": [
    {
     "data": {
      "text/plain": [
       "region\n",
       "88     5.500050e+07\n",
       "08     3.076363e+06\n",
       "17     2.528571e+06\n",
       "121    2.266667e+06\n",
       "24     2.132473e+06\n",
       "66     1.842525e+06\n",
       "39     1.555650e+06\n",
       "173    1.500000e+06\n",
       "63     1.452456e+06\n",
       "77     1.345005e+06\n",
       "Name: price, dtype: float64"
      ]
     },
     "execution_count": 12,
     "metadata": {},
     "output_type": "execute_result"
    }
   ],
   "source": [
    "region_price_stats = train.groupby('region')['price'].mean().sort_values(ascending=False)\n",
    "region_price_stats.head(10)"
   ]
  },
  {
   "cell_type": "code",
   "execution_count": 13,
   "id": "0e561049",
   "metadata": {
    "execution": {
     "iopub.execute_input": "2025-05-03T10:05:32.823979Z",
     "iopub.status.busy": "2025-05-03T10:05:32.823665Z",
     "iopub.status.idle": "2025-05-03T10:05:32.837815Z",
     "shell.execute_reply": "2025-05-03T10:05:32.837098Z"
    },
    "papermill": {
     "duration": 0.022408,
     "end_time": "2025-05-03T10:05:32.839448",
     "exception": false,
     "start_time": "2025-05-03T10:05:32.817040",
     "status": "completed"
    },
    "tags": []
   },
   "outputs": [],
   "source": [
    "from supplemental_english import REGION_CODES, GOVERNMENT_CODES\n",
    "\n",
    "REGION_CODES_INVERTED = {}\n",
    "for name, codes in REGION_CODES.items():\n",
    "    if isinstance(codes, list):\n",
    "        for code in codes:\n",
    "            REGION_CODES_INVERTED[str(code)] = name\n",
    "    else:\n",
    "        REGION_CODES_INVERTED[str(codes)] = name\n"
   ]
  },
  {
   "cell_type": "code",
   "execution_count": 14,
   "id": "261a1d67",
   "metadata": {
    "execution": {
     "iopub.execute_input": "2025-05-03T10:05:32.852931Z",
     "iopub.status.busy": "2025-05-03T10:05:32.852260Z",
     "iopub.status.idle": "2025-05-03T10:05:32.857734Z",
     "shell.execute_reply": "2025-05-03T10:05:32.856948Z"
    },
    "papermill": {
     "duration": 0.013675,
     "end_time": "2025-05-03T10:05:32.859181",
     "exception": false,
     "start_time": "2025-05-03T10:05:32.845506",
     "status": "completed"
    },
    "tags": []
   },
   "outputs": [],
   "source": [
    "def map_region_features(df, reference_df, price_threshold=1_000_000):\n",
    "    df['region'] = df['region'].astype(str)\n",
    "    reference_df['region'] = reference_df['region'].astype(str)\n",
    "\n",
    "    # Compute average price per region\n",
    "    region_price_stats = reference_df.groupby('region')['price'].mean()\n",
    "\n",
    "    # Select regions above the threshold\n",
    "    prestige_regions = set(region_price_stats[region_price_stats > price_threshold].index)\n",
    "\n",
    "    # Map region name and flag prestigious\n",
    "    df['region_name'] = df['region'].map(REGION_CODES_INVERTED)\n",
    "    df['is_prestigious_region'] = df['region'].isin(prestige_regions)\n",
    "\n",
    "    return df"
   ]
  },
  {
   "cell_type": "code",
   "execution_count": 15,
   "id": "3aaa886e",
   "metadata": {
    "execution": {
     "iopub.execute_input": "2025-05-03T10:05:32.872658Z",
     "iopub.status.busy": "2025-05-03T10:05:32.871996Z",
     "iopub.status.idle": "2025-05-03T10:05:32.905446Z",
     "shell.execute_reply": "2025-05-03T10:05:32.904267Z"
    },
    "papermill": {
     "duration": 0.041919,
     "end_time": "2025-05-03T10:05:32.907014",
     "exception": false,
     "start_time": "2025-05-03T10:05:32.865095",
     "status": "completed"
    },
    "tags": []
   },
   "outputs": [
    {
     "name": "stdout",
     "output_type": "stream",
     "text": [
      "Number of prestigious regions: 13\n",
      "Prestigious regions: ['77' '99' '39' '63' '42' '24' '08' '01' '66' '17' '173' '88' '121']\n"
     ]
    }
   ],
   "source": [
    "train = map_region_features(train, reference_df=train, price_threshold=1_000_000)\n",
    "\n",
    "prestigious_regions = train.loc[train['is_prestigious_region'], 'region'].unique()\n",
    "print(\"Number of prestigious regions:\", len(prestigious_regions))\n",
    "print(\"Prestigious regions:\", prestigious_regions)\n"
   ]
  },
  {
   "cell_type": "code",
   "execution_count": 16,
   "id": "5cf00709",
   "metadata": {
    "execution": {
     "iopub.execute_input": "2025-05-03T10:05:32.920608Z",
     "iopub.status.busy": "2025-05-03T10:05:32.919940Z",
     "iopub.status.idle": "2025-05-03T10:05:32.962704Z",
     "shell.execute_reply": "2025-05-03T10:05:32.961776Z"
    },
    "papermill": {
     "duration": 0.051375,
     "end_time": "2025-05-03T10:05:32.964488",
     "exception": false,
     "start_time": "2025-05-03T10:05:32.913113",
     "status": "completed"
    },
    "tags": []
   },
   "outputs": [],
   "source": [
    "# Apply using train as reference for prestige calculation\n",
    "train = map_region_features(train, reference_df=train, price_threshold=1_000_000)\n",
    "test = map_region_features(test, reference_df=train, price_threshold=1_000_000)\n"
   ]
  },
  {
   "cell_type": "code",
   "execution_count": 17,
   "id": "95982729",
   "metadata": {
    "execution": {
     "iopub.execute_input": "2025-05-03T10:05:32.978383Z",
     "iopub.status.busy": "2025-05-03T10:05:32.977576Z",
     "iopub.status.idle": "2025-05-03T10:05:32.982022Z",
     "shell.execute_reply": "2025-05-03T10:05:32.981132Z"
    },
    "papermill": {
     "duration": 0.012849,
     "end_time": "2025-05-03T10:05:32.983543",
     "exception": false,
     "start_time": "2025-05-03T10:05:32.970694",
     "status": "completed"
    },
    "tags": []
   },
   "outputs": [],
   "source": [
    "def flag_govt_plate(df,govt_dict):\n",
    "    df['is_govt_plate'] = df['plate'].isin(govt_dict)\n",
    "    return df"
   ]
  },
  {
   "cell_type": "code",
   "execution_count": 18,
   "id": "a89417b8",
   "metadata": {
    "execution": {
     "iopub.execute_input": "2025-05-03T10:05:32.997213Z",
     "iopub.status.busy": "2025-05-03T10:05:32.996907Z",
     "iopub.status.idle": "2025-05-03T10:05:33.010352Z",
     "shell.execute_reply": "2025-05-03T10:05:33.009448Z"
    },
    "papermill": {
     "duration": 0.022371,
     "end_time": "2025-05-03T10:05:33.011946",
     "exception": false,
     "start_time": "2025-05-03T10:05:32.989575",
     "status": "completed"
    },
    "tags": []
   },
   "outputs": [],
   "source": [
    "train = flag_govt_plate(train, GOVERNMENT_CODES)\n",
    "test = flag_govt_plate(test, GOVERNMENT_CODES)\n"
   ]
  },
  {
   "cell_type": "code",
   "execution_count": 19,
   "id": "3b469113",
   "metadata": {
    "execution": {
     "iopub.execute_input": "2025-05-03T10:05:33.025457Z",
     "iopub.status.busy": "2025-05-03T10:05:33.025149Z",
     "iopub.status.idle": "2025-05-03T10:05:33.042420Z",
     "shell.execute_reply": "2025-05-03T10:05:33.041597Z"
    },
    "papermill": {
     "duration": 0.025711,
     "end_time": "2025-05-03T10:05:33.043900",
     "exception": false,
     "start_time": "2025-05-03T10:05:33.018189",
     "status": "completed"
    },
    "tags": []
   },
   "outputs": [
    {
     "data": {
      "text/html": [
       "<div>\n",
       "<style scoped>\n",
       "    .dataframe tbody tr th:only-of-type {\n",
       "        vertical-align: middle;\n",
       "    }\n",
       "\n",
       "    .dataframe tbody tr th {\n",
       "        vertical-align: top;\n",
       "    }\n",
       "\n",
       "    .dataframe thead th {\n",
       "        text-align: right;\n",
       "    }\n",
       "</style>\n",
       "<table border=\"1\" class=\"dataframe\">\n",
       "  <thead>\n",
       "    <tr style=\"text-align: right;\">\n",
       "      <th></th>\n",
       "      <th>plate</th>\n",
       "      <th>date</th>\n",
       "      <th>price</th>\n",
       "      <th>year</th>\n",
       "      <th>month</th>\n",
       "      <th>day</th>\n",
       "      <th>weekday</th>\n",
       "      <th>days_since</th>\n",
       "      <th>letter1</th>\n",
       "      <th>digits</th>\n",
       "      <th>letters2</th>\n",
       "      <th>region</th>\n",
       "      <th>is_palindrome</th>\n",
       "      <th>is_repeated_digits</th>\n",
       "      <th>unique_digit_count</th>\n",
       "      <th>region_name</th>\n",
       "      <th>is_prestigious_region</th>\n",
       "      <th>is_govt_plate</th>\n",
       "    </tr>\n",
       "  </thead>\n",
       "  <tbody>\n",
       "    <tr>\n",
       "      <th>0</th>\n",
       "      <td>X059CP797</td>\n",
       "      <td>2024-12-26 00:00:00</td>\n",
       "      <td>65000</td>\n",
       "      <td>2024</td>\n",
       "      <td>12</td>\n",
       "      <td>26</td>\n",
       "      <td>3</td>\n",
       "      <td>1407</td>\n",
       "      <td>X</td>\n",
       "      <td>059</td>\n",
       "      <td>CP</td>\n",
       "      <td>797</td>\n",
       "      <td>False</td>\n",
       "      <td>False</td>\n",
       "      <td>3</td>\n",
       "      <td>Moscow</td>\n",
       "      <td>False</td>\n",
       "      <td>False</td>\n",
       "    </tr>\n",
       "    <tr>\n",
       "      <th>1</th>\n",
       "      <td>Y800MH790</td>\n",
       "      <td>2024-07-12 21:31:37</td>\n",
       "      <td>100000</td>\n",
       "      <td>2024</td>\n",
       "      <td>7</td>\n",
       "      <td>12</td>\n",
       "      <td>4</td>\n",
       "      <td>1241</td>\n",
       "      <td>Y</td>\n",
       "      <td>800</td>\n",
       "      <td>MH</td>\n",
       "      <td>790</td>\n",
       "      <td>False</td>\n",
       "      <td>False</td>\n",
       "      <td>2</td>\n",
       "      <td>Moscow Oblast</td>\n",
       "      <td>False</td>\n",
       "      <td>False</td>\n",
       "    </tr>\n",
       "    <tr>\n",
       "      <th>2</th>\n",
       "      <td>A212TX77</td>\n",
       "      <td>2024-04-18 00:00:00</td>\n",
       "      <td>290000</td>\n",
       "      <td>2024</td>\n",
       "      <td>4</td>\n",
       "      <td>18</td>\n",
       "      <td>3</td>\n",
       "      <td>1155</td>\n",
       "      <td>A</td>\n",
       "      <td>212</td>\n",
       "      <td>TX</td>\n",
       "      <td>77</td>\n",
       "      <td>True</td>\n",
       "      <td>False</td>\n",
       "      <td>2</td>\n",
       "      <td>Moscow</td>\n",
       "      <td>True</td>\n",
       "      <td>False</td>\n",
       "    </tr>\n",
       "    <tr>\n",
       "      <th>3</th>\n",
       "      <td>P001AY199</td>\n",
       "      <td>2025-01-03 00:27:15</td>\n",
       "      <td>680000</td>\n",
       "      <td>2025</td>\n",
       "      <td>1</td>\n",
       "      <td>3</td>\n",
       "      <td>4</td>\n",
       "      <td>1415</td>\n",
       "      <td>P</td>\n",
       "      <td>001</td>\n",
       "      <td>AY</td>\n",
       "      <td>199</td>\n",
       "      <td>False</td>\n",
       "      <td>False</td>\n",
       "      <td>2</td>\n",
       "      <td>Moscow</td>\n",
       "      <td>False</td>\n",
       "      <td>False</td>\n",
       "    </tr>\n",
       "    <tr>\n",
       "      <th>4</th>\n",
       "      <td>P001AY199</td>\n",
       "      <td>2025-01-10 09:32:41</td>\n",
       "      <td>750000</td>\n",
       "      <td>2025</td>\n",
       "      <td>1</td>\n",
       "      <td>10</td>\n",
       "      <td>4</td>\n",
       "      <td>1422</td>\n",
       "      <td>P</td>\n",
       "      <td>001</td>\n",
       "      <td>AY</td>\n",
       "      <td>199</td>\n",
       "      <td>False</td>\n",
       "      <td>False</td>\n",
       "      <td>2</td>\n",
       "      <td>Moscow</td>\n",
       "      <td>False</td>\n",
       "      <td>False</td>\n",
       "    </tr>\n",
       "  </tbody>\n",
       "</table>\n",
       "</div>"
      ],
      "text/plain": [
       "       plate                date   price  year  month  day  weekday  \\\n",
       "0  X059CP797 2024-12-26 00:00:00   65000  2024     12   26        3   \n",
       "1  Y800MH790 2024-07-12 21:31:37  100000  2024      7   12        4   \n",
       "2   A212TX77 2024-04-18 00:00:00  290000  2024      4   18        3   \n",
       "3  P001AY199 2025-01-03 00:27:15  680000  2025      1    3        4   \n",
       "4  P001AY199 2025-01-10 09:32:41  750000  2025      1   10        4   \n",
       "\n",
       "   days_since letter1 digits letters2 region  is_palindrome  \\\n",
       "0        1407       X    059       CP    797          False   \n",
       "1        1241       Y    800       MH    790          False   \n",
       "2        1155       A    212       TX     77           True   \n",
       "3        1415       P    001       AY    199          False   \n",
       "4        1422       P    001       AY    199          False   \n",
       "\n",
       "   is_repeated_digits  unique_digit_count    region_name  \\\n",
       "0               False                   3         Moscow   \n",
       "1               False                   2  Moscow Oblast   \n",
       "2               False                   2         Moscow   \n",
       "3               False                   2         Moscow   \n",
       "4               False                   2         Moscow   \n",
       "\n",
       "   is_prestigious_region  is_govt_plate  \n",
       "0                  False          False  \n",
       "1                  False          False  \n",
       "2                   True          False  \n",
       "3                  False          False  \n",
       "4                  False          False  "
      ]
     },
     "execution_count": 19,
     "metadata": {},
     "output_type": "execute_result"
    }
   ],
   "source": [
    "train.head()"
   ]
  },
  {
   "cell_type": "code",
   "execution_count": 20,
   "id": "777625d5",
   "metadata": {
    "execution": {
     "iopub.execute_input": "2025-05-03T10:05:33.057750Z",
     "iopub.status.busy": "2025-05-03T10:05:33.057464Z",
     "iopub.status.idle": "2025-05-03T10:05:33.072166Z",
     "shell.execute_reply": "2025-05-03T10:05:33.071127Z"
    },
    "papermill": {
     "duration": 0.023159,
     "end_time": "2025-05-03T10:05:33.073535",
     "exception": false,
     "start_time": "2025-05-03T10:05:33.050376",
     "status": "completed"
    },
    "tags": []
   },
   "outputs": [
    {
     "data": {
      "text/html": [
       "<div>\n",
       "<style scoped>\n",
       "    .dataframe tbody tr th:only-of-type {\n",
       "        vertical-align: middle;\n",
       "    }\n",
       "\n",
       "    .dataframe tbody tr th {\n",
       "        vertical-align: top;\n",
       "    }\n",
       "\n",
       "    .dataframe thead th {\n",
       "        text-align: right;\n",
       "    }\n",
       "</style>\n",
       "<table border=\"1\" class=\"dataframe\">\n",
       "  <thead>\n",
       "    <tr style=\"text-align: right;\">\n",
       "      <th></th>\n",
       "      <th>plate</th>\n",
       "      <th>date</th>\n",
       "      <th>year</th>\n",
       "      <th>month</th>\n",
       "      <th>day</th>\n",
       "      <th>weekday</th>\n",
       "      <th>days_since</th>\n",
       "      <th>letter1</th>\n",
       "      <th>digits</th>\n",
       "      <th>letters2</th>\n",
       "      <th>region</th>\n",
       "      <th>is_palindrome</th>\n",
       "      <th>is_repeated_digits</th>\n",
       "      <th>unique_digit_count</th>\n",
       "      <th>region_name</th>\n",
       "      <th>is_prestigious_region</th>\n",
       "      <th>is_govt_plate</th>\n",
       "    </tr>\n",
       "  </thead>\n",
       "  <tbody>\n",
       "    <tr>\n",
       "      <th>0</th>\n",
       "      <td>P700TT790</td>\n",
       "      <td>2025-01-27</td>\n",
       "      <td>2025</td>\n",
       "      <td>1</td>\n",
       "      <td>27</td>\n",
       "      <td>0</td>\n",
       "      <td>1439</td>\n",
       "      <td>P</td>\n",
       "      <td>700</td>\n",
       "      <td>TT</td>\n",
       "      <td>790</td>\n",
       "      <td>False</td>\n",
       "      <td>False</td>\n",
       "      <td>2</td>\n",
       "      <td>Moscow Oblast</td>\n",
       "      <td>False</td>\n",
       "      <td>False</td>\n",
       "    </tr>\n",
       "    <tr>\n",
       "      <th>1</th>\n",
       "      <td>M081TX797</td>\n",
       "      <td>2025-02-10</td>\n",
       "      <td>2025</td>\n",
       "      <td>2</td>\n",
       "      <td>10</td>\n",
       "      <td>0</td>\n",
       "      <td>1453</td>\n",
       "      <td>M</td>\n",
       "      <td>081</td>\n",
       "      <td>TX</td>\n",
       "      <td>797</td>\n",
       "      <td>False</td>\n",
       "      <td>False</td>\n",
       "      <td>3</td>\n",
       "      <td>Moscow</td>\n",
       "      <td>False</td>\n",
       "      <td>False</td>\n",
       "    </tr>\n",
       "    <tr>\n",
       "      <th>2</th>\n",
       "      <td>T333HX777</td>\n",
       "      <td>2025-02-11</td>\n",
       "      <td>2025</td>\n",
       "      <td>2</td>\n",
       "      <td>11</td>\n",
       "      <td>1</td>\n",
       "      <td>1454</td>\n",
       "      <td>T</td>\n",
       "      <td>333</td>\n",
       "      <td>HX</td>\n",
       "      <td>777</td>\n",
       "      <td>True</td>\n",
       "      <td>True</td>\n",
       "      <td>1</td>\n",
       "      <td>Moscow</td>\n",
       "      <td>False</td>\n",
       "      <td>False</td>\n",
       "    </tr>\n",
       "    <tr>\n",
       "      <th>3</th>\n",
       "      <td>H744BH977</td>\n",
       "      <td>2025-02-03</td>\n",
       "      <td>2025</td>\n",
       "      <td>2</td>\n",
       "      <td>3</td>\n",
       "      <td>0</td>\n",
       "      <td>1446</td>\n",
       "      <td>H</td>\n",
       "      <td>744</td>\n",
       "      <td>BH</td>\n",
       "      <td>977</td>\n",
       "      <td>False</td>\n",
       "      <td>False</td>\n",
       "      <td>2</td>\n",
       "      <td>Moscow</td>\n",
       "      <td>False</td>\n",
       "      <td>False</td>\n",
       "    </tr>\n",
       "    <tr>\n",
       "      <th>4</th>\n",
       "      <td>X066EM777</td>\n",
       "      <td>2025-02-12</td>\n",
       "      <td>2025</td>\n",
       "      <td>2</td>\n",
       "      <td>12</td>\n",
       "      <td>2</td>\n",
       "      <td>1455</td>\n",
       "      <td>X</td>\n",
       "      <td>066</td>\n",
       "      <td>EM</td>\n",
       "      <td>777</td>\n",
       "      <td>False</td>\n",
       "      <td>False</td>\n",
       "      <td>2</td>\n",
       "      <td>Moscow</td>\n",
       "      <td>False</td>\n",
       "      <td>False</td>\n",
       "    </tr>\n",
       "  </tbody>\n",
       "</table>\n",
       "</div>"
      ],
      "text/plain": [
       "       plate       date  year  month  day  weekday  days_since letter1 digits  \\\n",
       "0  P700TT790 2025-01-27  2025      1   27        0        1439       P    700   \n",
       "1  M081TX797 2025-02-10  2025      2   10        0        1453       M    081   \n",
       "2  T333HX777 2025-02-11  2025      2   11        1        1454       T    333   \n",
       "3  H744BH977 2025-02-03  2025      2    3        0        1446       H    744   \n",
       "4  X066EM777 2025-02-12  2025      2   12        2        1455       X    066   \n",
       "\n",
       "  letters2 region  is_palindrome  is_repeated_digits  unique_digit_count  \\\n",
       "0       TT    790          False               False                   2   \n",
       "1       TX    797          False               False                   3   \n",
       "2       HX    777           True                True                   1   \n",
       "3       BH    977          False               False                   2   \n",
       "4       EM    777          False               False                   2   \n",
       "\n",
       "     region_name  is_prestigious_region  is_govt_plate  \n",
       "0  Moscow Oblast                  False          False  \n",
       "1         Moscow                  False          False  \n",
       "2         Moscow                  False          False  \n",
       "3         Moscow                  False          False  \n",
       "4         Moscow                  False          False  "
      ]
     },
     "execution_count": 20,
     "metadata": {},
     "output_type": "execute_result"
    }
   ],
   "source": [
    "test.head()"
   ]
  },
  {
   "cell_type": "code",
   "execution_count": 21,
   "id": "58d29327",
   "metadata": {
    "execution": {
     "iopub.execute_input": "2025-05-03T10:05:33.088138Z",
     "iopub.status.busy": "2025-05-03T10:05:33.087447Z",
     "iopub.status.idle": "2025-05-03T10:05:33.103229Z",
     "shell.execute_reply": "2025-05-03T10:05:33.102401Z"
    },
    "papermill": {
     "duration": 0.024746,
     "end_time": "2025-05-03T10:05:33.104843",
     "exception": false,
     "start_time": "2025-05-03T10:05:33.080097",
     "status": "completed"
    },
    "tags": []
   },
   "outputs": [],
   "source": [
    "feature_cols = [\n",
    "    'year', 'month', 'day', 'weekday', 'days_since',\n",
    "    'letter1', 'digits', 'letters2', 'region',\n",
    "    'is_palindrome', 'is_repeated_digits', 'unique_digit_count',\n",
    "    'is_prestigious_region', 'is_govt_plate'\n",
    "]\n",
    "\n",
    "X = train[feature_cols]\n",
    "y = train['price']\n"
   ]
  },
  {
   "cell_type": "code",
   "execution_count": 22,
   "id": "47c0785e",
   "metadata": {
    "execution": {
     "iopub.execute_input": "2025-05-03T10:05:33.118826Z",
     "iopub.status.busy": "2025-05-03T10:05:33.118494Z",
     "iopub.status.idle": "2025-05-03T10:05:34.808891Z",
     "shell.execute_reply": "2025-05-03T10:05:34.807925Z"
    },
    "papermill": {
     "duration": 1.699394,
     "end_time": "2025-05-03T10:05:34.810636",
     "exception": false,
     "start_time": "2025-05-03T10:05:33.111242",
     "status": "completed"
    },
    "tags": []
   },
   "outputs": [],
   "source": [
    "from sklearn.model_selection import train_test_split\n",
    "\n",
    "X_train, X_val, y_train, y_val = train_test_split(X, y, test_size=0.2, random_state=42)\n"
   ]
  },
  {
   "cell_type": "code",
   "execution_count": 23,
   "id": "a29e3597",
   "metadata": {
    "execution": {
     "iopub.execute_input": "2025-05-03T10:05:34.825046Z",
     "iopub.status.busy": "2025-05-03T10:05:34.824530Z",
     "iopub.status.idle": "2025-05-03T10:05:34.828678Z",
     "shell.execute_reply": "2025-05-03T10:05:34.827934Z"
    },
    "papermill": {
     "duration": 0.012826,
     "end_time": "2025-05-03T10:05:34.830108",
     "exception": false,
     "start_time": "2025-05-03T10:05:34.817282",
     "status": "completed"
    },
    "tags": []
   },
   "outputs": [],
   "source": [
    "cat_features = ['letter1', 'digits', 'letters2', 'region']\n"
   ]
  },
  {
   "cell_type": "code",
   "execution_count": 24,
   "id": "045f7f9c",
   "metadata": {
    "execution": {
     "iopub.execute_input": "2025-05-03T10:05:34.843840Z",
     "iopub.status.busy": "2025-05-03T10:05:34.843504Z",
     "iopub.status.idle": "2025-05-03T10:05:58.603333Z",
     "shell.execute_reply": "2025-05-03T10:05:58.602119Z"
    },
    "papermill": {
     "duration": 23.768541,
     "end_time": "2025-05-03T10:05:58.604843",
     "exception": false,
     "start_time": "2025-05-03T10:05:34.836302",
     "status": "completed"
    },
    "tags": []
   },
   "outputs": [
    {
     "name": "stdout",
     "output_type": "stream",
     "text": [
      "0:\tlearn: 367707.2317665\ttest: 367661.1279351\tbest: 367661.1279351 (0)\ttotal: 94ms\tremaining: 1m 33s\n",
      "100:\tlearn: 248009.0177039\ttest: 243940.8323257\tbest: 243940.8323257 (100)\ttotal: 2.13s\tremaining: 19s\n",
      "200:\tlearn: 235354.8827096\ttest: 232167.6136106\tbest: 232167.6136106 (200)\ttotal: 4.53s\tremaining: 18s\n",
      "300:\tlearn: 228949.1689642\ttest: 227129.4515905\tbest: 227129.4515905 (300)\ttotal: 6.75s\tremaining: 15.7s\n",
      "400:\tlearn: 222532.1738033\ttest: 222098.8770603\tbest: 222098.8770603 (400)\ttotal: 8.91s\tremaining: 13.3s\n",
      "500:\tlearn: 219339.4925655\ttest: 220171.0210906\tbest: 220148.3620291 (497)\ttotal: 11.1s\tremaining: 11.1s\n",
      "600:\tlearn: 215623.6617374\ttest: 217585.1547438\tbest: 217585.1547438 (600)\ttotal: 13.3s\tremaining: 8.86s\n",
      "700:\tlearn: 213229.2242661\ttest: 216366.9781962\tbest: 216366.9781962 (700)\ttotal: 15.6s\tremaining: 6.66s\n",
      "800:\tlearn: 211353.6867350\ttest: 215345.3956349\tbest: 215345.3956349 (800)\ttotal: 18s\tremaining: 4.47s\n",
      "900:\tlearn: 210054.6461707\ttest: 214745.0912915\tbest: 214745.0912915 (900)\ttotal: 20.2s\tremaining: 2.22s\n",
      "999:\tlearn: 208662.9231042\ttest: 213964.1795608\tbest: 213964.1795608 (999)\ttotal: 22.6s\tremaining: 0us\n",
      "\n",
      "bestTest = 213964.1796\n",
      "bestIteration = 999\n",
      "\n"
     ]
    },
    {
     "data": {
      "text/plain": [
       "<catboost.core.CatBoostRegressor at 0x7d9ffa273b50>"
      ]
     },
     "execution_count": 24,
     "metadata": {},
     "output_type": "execute_result"
    }
   ],
   "source": [
    "from catboost import CatBoostRegressor, Pool\n",
    "\n",
    "train_pool = Pool(X_train, y_train, cat_features=cat_features)\n",
    "val_pool = Pool(X_val, y_val, cat_features=cat_features)\n",
    "\n",
    "model = CatBoostRegressor(\n",
    "    iterations=1000,\n",
    "    learning_rate=0.05,\n",
    "    depth=6,\n",
    "    loss_function='MAE',\n",
    "    eval_metric='MAE',\n",
    "    early_stopping_rounds=50,\n",
    "    verbose=100,\n",
    "    random_seed=42\n",
    ")\n",
    "\n",
    "model.fit(train_pool, eval_set=val_pool)"
   ]
  },
  {
   "cell_type": "code",
   "execution_count": 25,
   "id": "54c3627b",
   "metadata": {
    "execution": {
     "iopub.execute_input": "2025-05-03T10:05:58.620266Z",
     "iopub.status.busy": "2025-05-03T10:05:58.619952Z",
     "iopub.status.idle": "2025-05-03T10:05:58.683186Z",
     "shell.execute_reply": "2025-05-03T10:05:58.681951Z"
    },
    "papermill": {
     "duration": 0.072684,
     "end_time": "2025-05-03T10:05:58.684755",
     "exception": false,
     "start_time": "2025-05-03T10:05:58.612071",
     "status": "completed"
    },
    "tags": []
   },
   "outputs": [
    {
     "name": "stdout",
     "output_type": "stream",
     "text": [
      "SMAPE on validation: 38.59209297677174\n"
     ]
    }
   ],
   "source": [
    "def smape(y_true, y_pred):\n",
    "    denominator = (np.abs(y_true) + np.abs(y_pred)) / 2\n",
    "    diff = np.abs(y_true - y_pred) / denominator\n",
    "    return np.mean(diff) * 100\n",
    "\n",
    "val_preds = model.predict(val_pool)\n",
    "print(\"SMAPE on validation:\", smape(y_val, val_preds))\n"
   ]
  },
  {
   "cell_type": "code",
   "execution_count": 26,
   "id": "a2380e9f",
   "metadata": {
    "execution": {
     "iopub.execute_input": "2025-05-03T10:05:58.700282Z",
     "iopub.status.busy": "2025-05-03T10:05:58.699958Z",
     "iopub.status.idle": "2025-05-03T10:05:58.744312Z",
     "shell.execute_reply": "2025-05-03T10:05:58.743336Z"
    },
    "papermill": {
     "duration": 0.054068,
     "end_time": "2025-05-03T10:05:58.746083",
     "exception": false,
     "start_time": "2025-05-03T10:05:58.692015",
     "status": "completed"
    },
    "tags": []
   },
   "outputs": [],
   "source": [
    "X_test = test[feature_cols]\n",
    "test_pool = Pool(X_test, cat_features=cat_features)\n",
    "test_preds = model.predict(test_pool)\n"
   ]
  },
  {
   "cell_type": "code",
   "execution_count": 27,
   "id": "0759b456",
   "metadata": {
    "execution": {
     "iopub.execute_input": "2025-05-03T10:05:58.762373Z",
     "iopub.status.busy": "2025-05-03T10:05:58.762043Z",
     "iopub.status.idle": "2025-05-03T10:05:58.796260Z",
     "shell.execute_reply": "2025-05-03T10:05:58.794988Z"
    },
    "papermill": {
     "duration": 0.044227,
     "end_time": "2025-05-03T10:05:58.797993",
     "exception": false,
     "start_time": "2025-05-03T10:05:58.753766",
     "status": "completed"
    },
    "tags": []
   },
   "outputs": [],
   "source": [
    "sample = pd.read_csv('/kaggle/input/russian-car-plates-prices-prediction/sample_submission.csv')\n",
    "sample['price'] = np.clip(test_preds, a_min=0, a_max=None)\n",
    "sample.to_csv('submission.csv', index=False)\n"
   ]
  },
  {
   "cell_type": "code",
   "execution_count": 28,
   "id": "3b82bdc7",
   "metadata": {
    "execution": {
     "iopub.execute_input": "2025-05-03T10:05:58.813896Z",
     "iopub.status.busy": "2025-05-03T10:05:58.813500Z",
     "iopub.status.idle": "2025-05-03T10:06:21.288727Z",
     "shell.execute_reply": "2025-05-03T10:06:21.287650Z"
    },
    "papermill": {
     "duration": 22.484837,
     "end_time": "2025-05-03T10:06:21.290228",
     "exception": false,
     "start_time": "2025-05-03T10:05:58.805391",
     "status": "completed"
    },
    "tags": []
   },
   "outputs": [
    {
     "name": "stdout",
     "output_type": "stream",
     "text": [
      "0:\tlearn: 0.8994074\ttest: 0.9048130\tbest: 0.9048130 (0)\ttotal: 29.5ms\tremaining: 29.5s\n",
      "100:\tlearn: 0.4650027\ttest: 0.4636064\tbest: 0.4636064 (100)\ttotal: 1.88s\tremaining: 16.7s\n",
      "200:\tlearn: 0.4395449\ttest: 0.4401824\tbest: 0.4401824 (200)\ttotal: 4.31s\tremaining: 17.1s\n",
      "300:\tlearn: 0.4267986\ttest: 0.4299595\tbest: 0.4299595 (300)\ttotal: 6.81s\tremaining: 15.8s\n",
      "400:\tlearn: 0.4181857\ttest: 0.4238685\tbest: 0.4238685 (400)\ttotal: 8.9s\tremaining: 13.3s\n",
      "500:\tlearn: 0.4120265\ttest: 0.4198181\tbest: 0.4198181 (500)\ttotal: 11s\tremaining: 10.9s\n",
      "600:\tlearn: 0.4073537\ttest: 0.4172774\tbest: 0.4172774 (600)\ttotal: 13.1s\tremaining: 8.71s\n",
      "700:\tlearn: 0.4033505\ttest: 0.4153610\tbest: 0.4153610 (700)\ttotal: 15.4s\tremaining: 6.55s\n",
      "800:\tlearn: 0.4000283\ttest: 0.4139181\tbest: 0.4139181 (800)\ttotal: 17.7s\tremaining: 4.4s\n",
      "900:\tlearn: 0.3969498\ttest: 0.4125221\tbest: 0.4125221 (900)\ttotal: 19.9s\tremaining: 2.18s\n",
      "999:\tlearn: 0.3944679\ttest: 0.4114254\tbest: 0.4114254 (999)\ttotal: 22.1s\tremaining: 0us\n",
      "\n",
      "bestTest = 0.4114253698\n",
      "bestIteration = 999\n",
      "\n"
     ]
    },
    {
     "data": {
      "text/plain": [
       "<catboost.core.CatBoostRegressor at 0x7d9ffa273b50>"
      ]
     },
     "execution_count": 28,
     "metadata": {},
     "output_type": "execute_result"
    }
   ],
   "source": [
    "y_train_log = np.log1p(y_train)\n",
    "y_val_log = np.log1p(y_val)\n",
    "\n",
    "# New pools with the transformed target\n",
    "train_pool = Pool(X_train, y_train_log, cat_features=cat_features)\n",
    "val_pool = Pool(X_val, y_val_log, cat_features=cat_features)\n",
    "\n",
    "model.fit(train_pool, eval_set=val_pool)\n"
   ]
  },
  {
   "cell_type": "code",
   "execution_count": 29,
   "id": "95471509",
   "metadata": {
    "execution": {
     "iopub.execute_input": "2025-05-03T10:06:21.306623Z",
     "iopub.status.busy": "2025-05-03T10:06:21.306289Z",
     "iopub.status.idle": "2025-05-03T10:06:21.349649Z",
     "shell.execute_reply": "2025-05-03T10:06:21.348649Z"
    },
    "papermill": {
     "duration": 0.0534,
     "end_time": "2025-05-03T10:06:21.351369",
     "exception": false,
     "start_time": "2025-05-03T10:06:21.297969",
     "status": "completed"
    },
    "tags": []
   },
   "outputs": [
    {
     "name": "stdout",
     "output_type": "stream",
     "text": [
      "SMAPE: 37.99419141326699\n"
     ]
    }
   ],
   "source": [
    "val_preds_log = model.predict(val_pool)\n",
    "val_preds = np.expm1(val_preds_log)\n",
    "\n",
    "print(\"SMAPE:\", smape(y_val, val_preds))\n"
   ]
  },
  {
   "cell_type": "code",
   "execution_count": 30,
   "id": "4ed65c80",
   "metadata": {
    "execution": {
     "iopub.execute_input": "2025-05-03T10:06:21.368643Z",
     "iopub.status.busy": "2025-05-03T10:06:21.367878Z",
     "iopub.status.idle": "2025-05-03T10:06:21.414160Z",
     "shell.execute_reply": "2025-05-03T10:06:21.413237Z"
    },
    "papermill": {
     "duration": 0.056512,
     "end_time": "2025-05-03T10:06:21.415837",
     "exception": false,
     "start_time": "2025-05-03T10:06:21.359325",
     "status": "completed"
    },
    "tags": []
   },
   "outputs": [],
   "source": [
    "X_test = test[feature_cols]\n",
    "test_pool = Pool(X_test, cat_features=cat_features)\n",
    "test_preds_log = model.predict(test_pool)\n",
    "test_preds = np.expm1(test_preds_log)"
   ]
  },
  {
   "cell_type": "code",
   "execution_count": 31,
   "id": "0ffd0aeb",
   "metadata": {
    "execution": {
     "iopub.execute_input": "2025-05-03T10:06:21.433281Z",
     "iopub.status.busy": "2025-05-03T10:06:21.432988Z",
     "iopub.status.idle": "2025-05-03T10:06:21.462569Z",
     "shell.execute_reply": "2025-05-03T10:06:21.461561Z"
    },
    "papermill": {
     "duration": 0.040403,
     "end_time": "2025-05-03T10:06:21.464380",
     "exception": false,
     "start_time": "2025-05-03T10:06:21.423977",
     "status": "completed"
    },
    "tags": []
   },
   "outputs": [],
   "source": [
    "sample = pd.read_csv('/kaggle/input/russian-car-plates-prices-prediction/sample_submission.csv')\n",
    "sample['price'] = np.clip(test_preds, a_min=0, a_max=None)\n",
    "sample.to_csv('submission.csv', index=False)\n"
   ]
  }
 ],
 "metadata": {
  "kaggle": {
   "accelerator": "none",
   "dataSources": [
    {
     "databundleVersionId": 11239181,
     "sourceId": 94521,
     "sourceType": "competition"
    }
   ],
   "dockerImageVersionId": 31012,
   "isGpuEnabled": false,
   "isInternetEnabled": false,
   "language": "python",
   "sourceType": "notebook"
  },
  "kernelspec": {
   "display_name": "Python 3",
   "language": "python",
   "name": "python3"
  },
  "language_info": {
   "codemirror_mode": {
    "name": "ipython",
    "version": 3
   },
   "file_extension": ".py",
   "mimetype": "text/x-python",
   "name": "python",
   "nbconvert_exporter": "python",
   "pygments_lexer": "ipython3",
   "version": "3.11.11"
  },
  "papermill": {
   "default_parameters": {},
   "duration": 56.995724,
   "end_time": "2025-05-03T10:06:22.293314",
   "environment_variables": {},
   "exception": null,
   "input_path": "__notebook__.ipynb",
   "output_path": "__notebook__.ipynb",
   "parameters": {},
   "start_time": "2025-05-03T10:05:25.297590",
   "version": "2.6.0"
  }
 },
 "nbformat": 4,
 "nbformat_minor": 5
}
